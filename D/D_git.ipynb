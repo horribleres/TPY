{
 "cells": [
  {
   "cell_type": "markdown",
   "metadata": {},
   "source": [
    "## D_练习日志"
   ]
  },
  {
   "cell_type": "markdown",
   "metadata": {},
   "source": [
    "1. 创建github账号，将仓库horribleres/TPY（https://github.com/horribleres/TPY.git） fork到自己的GitHub账号下, 在下方cell中输入自己GitHub地址"
   ]
  },
  {
   "cell_type": "code",
   "execution_count": null,
   "metadata": {},
   "outputs": [],
   "source": [
    "https://github.com/dshscott/TPY.git"
   ]
  },
  {
   "cell_type": "markdown",
   "metadata": {},
   "source": [
    "2. 将 fork后的仓库clone到本地\n",
    "\n",
    "3. 在本地仓库操作：将此文本添加至本地TPY/D目录下，在TPY/R目录下创建D1.ipyb文件（python3模式），并在文件中创建两个cell， 一个代码cell， 一个文本cell，编辑任意内容,下方粘贴操作的git代码"
   ]
  },
  {
   "cell_type": "code",
   "execution_count": null,
   "metadata": {},
   "outputs": [],
   "source": [
    "$ git clone git@github.com:dshscott/TPY.git"
   ]
  },
  {
   "cell_type": "markdown",
   "metadata": {},
   "source": [
    "4. 在自己账户下创建仓库tmp_D,并将D1.ipyb文件上传至该仓库\n",
    "\n",
    "5. 从冉小东仓库中下载R1.ipyb文件，修改内容，增加两个一个代码cell，并执行打印 hello world, 重命名D2.ipyb,并添加至本地TPY/D目录下\n",
    "\n",
    "6. 写git学习总结，并添加至本地TPY/D目录下"
   ]
  },
  {
   "cell_type": "code",
   "execution_count": null,
   "metadata": {},
   "outputs": [],
   "source": []
  },
  {
   "cell_type": "markdown",
   "metadata": {},
   "source": [
    "7. 将本地fork仓库pull resquest至horribleres仓库"
   ]
  }
 ],
 "metadata": {
  "kernelspec": {
   "display_name": "Python 3",
   "language": "python",
   "name": "python3"
  },
  "language_info": {
   "codemirror_mode": {
    "name": "ipython",
    "version": 3
   },
   "file_extension": ".py",
   "mimetype": "text/x-python",
   "name": "python",
   "nbconvert_exporter": "python",
   "pygments_lexer": "ipython3",
   "version": "3.6.3"
  }
 },
 "nbformat": 4,
 "nbformat_minor": 2
}
